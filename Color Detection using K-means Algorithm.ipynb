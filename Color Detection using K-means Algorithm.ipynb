{
 "cells": [
  {
   "cell_type": "code",
   "execution_count": 94,
   "id": "99a17983",
   "metadata": {},
   "outputs": [],
   "source": [
    "import cv2 as cv\n",
    "import numpy as np \n",
    "import webcolors\n",
    "import matplotlib.pyplot as plt\n",
    "from matplotlib import colors\n",
    "from sklearn.cluster import KMeans\n",
    "from collections import Counter\n",
    "# from scipy.spatial import KDTree\n",
    "# from webcolors import (\n",
    "#     css3_hex_to_names,\n",
    "#     hex_to_rgb,\n",
    "# )"
   ]
  },
  {
   "cell_type": "raw",
   "id": "cb490d5e",
   "metadata": {},
   "source": [
    "yung nangayari dito sa baba\n",
    "def rgb_to_hex(rgb_color):\n",
    "    hex_color = \"#\"\n",
    "    for i in rgb_color:  \n",
    "        i = int(i)\n",
    "        hex_color += (\"{:02x}\".format(i))\n",
    "    return hex_color\n",
    "rgb_to_hex((255,0,255))\n",
    "\n",
    "take note :\n",
    ":02x = eto yung pang convert kay i varible into hexadecimal with 2 digits or letter only \n",
    "logic don sa mismong function :\n",
    "hex_color += \"#\" + hexadecimal ni 255\n",
    "hex_color += \"#\" + hexadecimal ni 255 + hexadecimal ni 0\n",
    "hex_color += \"#\" + hexadecimal ni 255 + hexadecimal ni 0 hexadecimal ni 255\n"
   ]
  },
  {
   "cell_type": "code",
   "execution_count": 95,
   "id": "98f4ba50",
   "metadata": {},
   "outputs": [],
   "source": [
    "def rgb_to_hex(rgb_color):\n",
    "    hex_color = \"#\"\n",
    "    for i in rgb_color:\n",
    "        i = int(i)\n",
    "        hex_color += (\"{:02x}\".format(i))\n",
    "    return hex_color"
   ]
  },
  {
   "cell_type": "raw",
   "id": "c42b6e31",
   "metadata": {},
   "source": [
    "image_name = r\"images/a.jpg\"         # line 1\n",
    "raw_image = cv.imread(image_name)    # line 2\n",
    "img  = cv.resize(raw_image,(900,600),interpolation = cv.INTER_AREA)    # line 3\n",
    "\n",
    " - (line 1) Dito naman ang ginawa hinanap ko yung image\n",
    " - (line 2) tas iloload ko kay raw_image\n",
    " - (line 3) ireresize ko yung "
   ]
  },
  {
   "cell_type": "code",
   "execution_count": 96,
   "id": "42fc56a5",
   "metadata": {},
   "outputs": [],
   "source": [
    "image_name = r\"images/a.jpg\"\n",
    "raw_image = cv.imread(image_name)\n",
    "img  = cv.resize(raw_image,(900,600),interpolation = cv.INTER_AREA)"
   ]
  },
  {
   "cell_type": "raw",
   "id": "df7fad60",
   "metadata": {},
   "source": [
    "img = img.reshape(img.shape[0] * img.shape[1],3) # line 1\n",
    "img.shape   # line 2\n",
    "\n",
    "- (line 1) dito ginawa ko img.reshape i kinompatible ko yung dami ng array sa laki ng image bali yung result niyan is total of pixels\n",
    "\n",
    "- (line 2) dito ginawa ko pinirint ko yung shape ni img  which is number of pixels 900 * 600"
   ]
  },
  {
   "cell_type": "code",
   "execution_count": 97,
   "id": "622b584f",
   "metadata": {},
   "outputs": [
    {
     "data": {
      "text/plain": [
       "(540000, 3)"
      ]
     },
     "execution_count": 97,
     "metadata": {},
     "output_type": "execute_result"
    }
   ],
   "source": [
    "img = img.reshape(img.shape[0] * img.shape[1],3)\n",
    "img.shape"
   ]
  },
  {
   "cell_type": "raw",
   "id": "00e91fbe",
   "metadata": {},
   "source": [
    "img #line 1\n",
    "\n",
    "- (line 1) dito pinirint ko lang yung array nung mismong image tas nakalagay dito yung color  each pixel "
   ]
  },
  {
   "cell_type": "code",
   "execution_count": 98,
   "id": "46a02a4c",
   "metadata": {},
   "outputs": [
    {
     "data": {
      "text/plain": [
       "array([[216, 200, 193],\n",
       "       [216, 200, 193],\n",
       "       [216, 200, 193],\n",
       "       ...,\n",
       "       [ 99,  60,  12],\n",
       "       [ 99,  59,  11],\n",
       "       [ 99,  59,  11]], dtype=uint8)"
      ]
     },
     "execution_count": 98,
     "metadata": {},
     "output_type": "execute_result"
    }
   ],
   "source": [
    "img"
   ]
  },
  {
   "cell_type": "raw",
   "id": "b4e66ae3",
   "metadata": {},
   "source": [
    "clf =KMeans(n_clusters=5)     # line 1\n",
    "color_labels = clf.fit_predict(img)  # line 2\n",
    "center_color = clf.cluster_centers_  # line 3\n",
    "\n",
    "- ( line 1 ) dito yung n_clusters kung ilan group ko siya hahatiin bali kaya 5 siya top 5 color na nagaappear sa picture\n",
    "- ( line 2 ) nakalagay sa array ito kung saan every pixel o element may katumbas na number which is group 1 - 5\n",
    "- ( line 3 ) nakalagay to sa array na kung saan eto yung center o yung pinaka primary color o yung average don sa image \n"
   ]
  },
  {
   "cell_type": "code",
   "execution_count": 99,
   "id": "515ad1c0",
   "metadata": {},
   "outputs": [],
   "source": [
    "clf =KMeans(n_clusters=5)\n",
    "color_labels = clf.fit_predict(img)\n",
    "center_color = clf.cluster_centers_"
   ]
  },
  {
   "cell_type": "code",
   "execution_count": 100,
   "id": "a3a45c9d",
   "metadata": {},
   "outputs": [
    {
     "data": {
      "text/plain": [
       "array([0, 0, 0, ..., 2, 2, 2])"
      ]
     },
     "execution_count": 100,
     "metadata": {},
     "output_type": "execute_result"
    }
   ],
   "source": [
    "color_labels"
   ]
  },
  {
   "cell_type": "code",
   "execution_count": 101,
   "id": "f5754e15",
   "metadata": {},
   "outputs": [
    {
     "data": {
      "text/plain": [
       "array([[208.3102093 , 194.86865707, 190.28948801],\n",
       "       [115.12599015,  87.2061594 ,  62.96988278],\n",
       "       [ 58.53182774,  41.76938579,  32.29981162],\n",
       "       [154.75366781, 172.5254181 , 212.31636781],\n",
       "       [166.23601377, 145.95725747, 136.76171923]])"
      ]
     },
     "execution_count": 101,
     "metadata": {},
     "output_type": "execute_result"
    }
   ],
   "source": [
    "center_color"
   ]
  },
  {
   "cell_type": "raw",
   "id": "72bd5ba8",
   "metadata": {},
   "source": [
    "count = Counter(color_labels) # line 1\n",
    "count  # line 1\n",
    "\n",
    "- (line 1) eto nakalagay sa isang dictionary,  yung top 5 colors na nagaappear sa img tas nakalagay din kung ilang beses sila nag appear don sa img\n",
    "- (line 2) eto pinirint ko yung count yung dictionary \n"
   ]
  },
  {
   "cell_type": "code",
   "execution_count": 102,
   "id": "e749502c",
   "metadata": {},
   "outputs": [
    {
     "data": {
      "text/plain": [
       "Counter({0: 259056, 4: 130199, 1: 72078, 3: 33049, 2: 45618})"
      ]
     },
     "execution_count": 102,
     "metadata": {},
     "output_type": "execute_result"
    }
   ],
   "source": [
    "count = Counter(color_labels)\n",
    "count"
   ]
  },
  {
   "cell_type": "raw",
   "id": "b71d1f02",
   "metadata": {},
   "source": [
    "take note:\n",
    "ordered_colors = [center_color[i] for i in count.keys() ] #line 1\n",
    "ordered_colors     #line 2\n",
    "\n",
    "- (line 1) count.keys() kinuha sa mismong array yung unique key don sa color ng image\n",
    "\n"
   ]
  },
  {
   "cell_type": "code",
   "execution_count": 103,
   "id": "6655ef16",
   "metadata": {},
   "outputs": [
    {
     "data": {
      "text/plain": [
       "[array([208.3102093 , 194.86865707, 190.28948801]),\n",
       " array([166.23601377, 145.95725747, 136.76171923]),\n",
       " array([115.12599015,  87.2061594 ,  62.96988278]),\n",
       " array([154.75366781, 172.5254181 , 212.31636781]),\n",
       " array([58.53182774, 41.76938579, 32.29981162])]"
      ]
     },
     "execution_count": 103,
     "metadata": {},
     "output_type": "execute_result"
    }
   ],
   "source": [
    "ordered_colors = [center_color[i] for i in count.keys() ]\n",
    "ordered_colors\n"
   ]
  },
  {
   "cell_type": "raw",
   "id": "d604b823",
   "metadata": {},
   "source": [
    "hex_color = [rgb_to_hex(ordered_colors[i]) for i in count.keys()]  #line 1\n",
    "hex_color    #line 2\n",
    "\n",
    "- (line 1) hex_color eto yung array na kung saan cinonvert into hex code yung top 5 primary color don sa image\n"
   ]
  },
  {
   "cell_type": "code",
   "execution_count": 104,
   "id": "ef2819d1",
   "metadata": {},
   "outputs": [
    {
     "data": {
      "text/plain": [
       "['#d0c2be', '#3a2920', '#a69188', '#9aacd4', '#73573e']"
      ]
     },
     "execution_count": 104,
     "metadata": {},
     "output_type": "execute_result"
    }
   ],
   "source": [
    "hex_color = [rgb_to_hex(ordered_colors[i]) for i in count.keys()]\n",
    "hex_color"
   ]
  },
  {
   "cell_type": "raw",
   "id": "b9381074",
   "metadata": {},
   "source": [
    "plt.figure(figsize=(12,8))     # line 1\n",
    "plt.pie(count.values(),labels = hex_color,colors = hex_color)   # line 2\n",
    "plt.savefig(f'{image_name[:4]}-analysis.png')     # line 3\n",
    "\n",
    "- (line 1)  eto  nirerepresent lang nito yung kung gano kalaki yung width and height ni graph\n",
    "- (line 2) \n",
    "    count.value() dictionary na naglalaman ng top 5 color na nagappear sa image \n",
    "    labels eto yung kung ano yung pangalan na magrerepresent don sa pie chart\n",
    "    colors kung ano yung kulay each slice\n",
    "- (line 3) eto yung pag save as png sa mismong directory natin kumbaga parang sinesave as mo yung pie chart mo tas ilalagay mo sa path which is yung folder na to "
   ]
  },
  {
   "cell_type": "code",
   "execution_count": 105,
   "id": "baa73a24",
   "metadata": {
    "scrolled": true
   },
   "outputs": [
    {
     "data": {
      "image/png": "[encoded data removed]",
      "text/plain": [
       "<Figure size 864x576 with 1 Axes>"
      ]
     },
     "metadata": {},
     "output_type": "display_data"
    }
   ],
   "source": [
    "plt.figure(figsize=(12,8))\n",
    "plt.pie(count.values(),labels = hex_color,colors = hex_color)\n",
    "plt.savefig(f'{image_name[:5]}-analysis.png')"
   ]
  },
  {
   "cell_type": "code",
   "execution_count": 106,
   "id": "8dc60fdb",
   "metadata": {},
   "outputs": [
    {
     "data": {
      "text/plain": [
       "['#d0c2be', '#3a2920', '#a69188', '#9aacd4', '#73573e']"
      ]
     },
     "execution_count": 106,
     "metadata": {},
     "output_type": "execute_result"
    }
   ],
   "source": [
    "hex_color\n"
   ]
  },
  {
   "cell_type": "code",
   "execution_count": 107,
   "id": "f3cdaa5d",
   "metadata": {},
   "outputs": [],
   "source": [
    "def hex_to_rgb(value):\n",
    "    value = value.lstrip('#')\n",
    "    lv = len(value)\n",
    "    return tuple(int(value[i:i + lv // 3], 16) for i in range(0, lv, lv // 3))"
   ]
  },
  {
   "cell_type": "code",
   "execution_count": 108,
   "id": "0fed9fae",
   "metadata": {},
   "outputs": [],
   "source": [
    "def convert_rgb_to_names(rgb_tuple):\n",
    "    \n",
    "    # a dictionary of all the hex and their respective names in css3\n",
    "    css3_db = css3_hex_to_names\n",
    "    names = []\n",
    "    rgb_values = []\n",
    "    for color_hex, color_name in css3_db.items():\n",
    "        names.append(color_name)\n",
    "        rgb_values.append(hex_to_rgb(color_hex))\n",
    "    \n",
    "    kdt_db = KDTree(rgb_values)\n",
    "    distance, index = kdt_db.query(rgb_tuple)\n",
    "    return names[index]"
   ]
  },
  {
   "cell_type": "code",
   "execution_count": 109,
   "id": "f706a209",
   "metadata": {},
   "outputs": [],
   "source": [
    "color_names= [convert_rgb_to_names(hex_to_rgb(hex_color[i])) for i in range(len(hex_color))]\n"
   ]
  },
  {
   "cell_type": "code",
   "execution_count": 110,
   "id": "08537c94",
   "metadata": {
    "scrolled": true
   },
   "outputs": [
    {
     "data": {
      "text/plain": [
       "['silver', 'darkslategrey', 'rosybrown', 'lightsteelblue', 'darkolivegreen']"
      ]
     },
     "execution_count": 110,
     "metadata": {},
     "output_type": "execute_result"
    }
   ],
   "source": [
    "color_names"
   ]
  },
  {
   "cell_type": "code",
   "execution_count": null,
   "id": "e57ab667",
   "metadata": {},
   "outputs": [],
   "source": []
  }
 ],
 "metadata": {
  "kernelspec": {
   "display_name": "Python 3 (ipykernel)",
   "language": "python",
   "name": "python3"
  },
  "language_info": {
   "codemirror_mode": {
    "name": "ipython",
    "version": 3
   },
   "file_extension": ".py",
   "mimetype": "text/x-python",
   "name": "python",
   "nbconvert_exporter": "python",
   "pygments_lexer": "ipython3",
   "version": "3.9.6"
  }
 },
 "nbformat": 4,
 "nbformat_minor": 5
}
